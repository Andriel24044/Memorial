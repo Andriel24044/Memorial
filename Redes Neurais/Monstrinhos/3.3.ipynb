{
 "cells": [
  {
   "cell_type": "markdown",
   "metadata": {},
   "source": [
    "<div style=\"text-align: justify;\">\n",
    "\n",
    "### **3.3** Classes em Python não pagam imposto sobre herança\n",
    "**Objetivo:** Modele algum conceito científico utilizando herança de classes.<br><br>\n",
    "**Considerações do experimento:** O uso da herança de classes deve fazer sentido\n",
    "dentro do contexto científico escolhido, isto é, deve haver uma justificativa bem embasada\n",
    "para o uso de herança de classes na sua entrega. Certifique-se que a classe mãe tem pelo\n",
    "menos um método que não seja dunder para ser herdado pela classe filha. Garanta que a\n",
    "classe filha tem pelo menos um método (dunder ou não) que justifique a sua criação."
   ]
  },
  {
   "cell_type": "markdown",
   "metadata": {},
   "source": [
    "#### Código"
   ]
  },
  {
   "cell_type": "markdown",
   "metadata": {},
   "source": [
    "<div style=\"text-align: justify;\">\n",
    "\n",
    "&nbsp;&nbsp;&nbsp;&nbsp;O código apresentado abaixo introduz o conceito de herança de classes por meio da representação dos seres vivos a partir de uma classe-mãe definida como `class SerVivo`. Como exemplo, foi criada uma interação entre seres vivos: a polinização das plantas mediada por abelhas."
   ]
  },
  {
   "cell_type": "code",
   "execution_count": 1,
   "metadata": {},
   "outputs": [
    {
     "name": "stdout",
     "output_type": "stream",
     "text": [
      "roseira está vivo no ecossistema.\n",
      "roseira está realizando fotossíntese.\n",
      "Abelha está vivo no ecossistema.\n",
      "Abelha está se movendo.\n",
      "------------------------------\n",
      "Abelha polinizou a flor roseira.\n",
      "A angiosperma roseira foi polinizada!\n"
     ]
    }
   ],
   "source": [
    "class SerVivo:\n",
    "    def __init__(self, nome):\n",
    "        self.nome = nome\n",
    "\n",
    "    def existir(self):\n",
    "        return f\"{self.nome} está vivo no ecossistema.\"\n",
    "\n",
    "\n",
    "class Planta(SerVivo):\n",
    "    def __init__(self, nome, especie):\n",
    "        super().__init__(nome)\n",
    "        self.especie = especie\n",
    "\n",
    "    def fotossintese(self):\n",
    "        return f\"{self.nome} está realizando fotossíntese.\"\n",
    "\n",
    "class Pteridofita(Planta):\n",
    "    def __init__(self, nome, especie):\n",
    "        super().__init__(nome, especie)\n",
    "        self.polinizado = False\n",
    "    \n",
    "class Angiosperma(Planta):\n",
    "    def __init__(self, nome, cor, especie):\n",
    "        super().__init__(nome, especie)\n",
    "        self.cor = cor\n",
    "        self.polinizado = False\n",
    "\n",
    "    def ser_polinizada(self):\n",
    "        self.polinizado = True\n",
    "        return f\"A angiosperma {self.nome} foi polinizada!\"\n",
    "\n",
    "\n",
    "class Animal(SerVivo):\n",
    "    def __init__(self, nome, especie):\n",
    "        super().__init__(nome)\n",
    "        self.especie = especie\n",
    "\n",
    "    def mover(self):\n",
    "        return f\"{self.nome} está se movendo.\"\n",
    "\n",
    "\n",
    "class Abelha(Animal):\n",
    "    def __init__(self, nome=\"Abelha\", especie='mellifera'):\n",
    "        super().__init__(nome, especie)\n",
    "\n",
    "    def polinizar(self, flor):\n",
    "        if isinstance(flor, Angiosperma):\n",
    "            return f\"{self.nome} polinizou a flor {flor.nome}.\", flor.ser_polinizada()\n",
    "        else:\n",
    "            return f\"{self.nome} não pode polinizar isso.\"\n",
    "\n",
    "\n",
    "rosa = Angiosperma(\"roseira\", \"vermelha\", 'especie da roseira')\n",
    "pinheiro = Pteridofita('pinheiro', 'especie do pinheiro')\n",
    "abelha = Abelha()\n",
    "\n",
    "print(rosa.existir())\n",
    "print(rosa.fotossintese())\n",
    "print(abelha.existir())\n",
    "print(abelha.mover())\n",
    "\n",
    "print('-'*30)\n",
    "\n",
    "for i in abelha.polinizar(rosa):\n",
    "    print(i)\n"
   ]
  },
  {
   "cell_type": "markdown",
   "metadata": {},
   "source": [
    "#### Trecho do código explicado"
   ]
  },
  {
   "cell_type": "markdown",
   "metadata": {},
   "source": [
    "```python\n",
    "class Abelha(Animal):\n",
    "    def __init__(self, nome=\"Abelha\", especie='mellifera'):\n",
    "        super().__init__(nome, especie)\n",
    "\n",
    "    def polinizar(self, flor):\n",
    "        if isinstance(flor, Angiosperma):\n",
    "            return f\"{self.nome} polinizou a flor {flor.nome}.\", flor.ser_polinizada()\n",
    "        else:\n",
    "            return f\"{self.nome} não pode polinizar isso.\"\n",
    "```"
   ]
  },
  {
   "cell_type": "markdown",
   "metadata": {},
   "source": [
    "<div style=\"text-align: justify;\">\n",
    "\n",
    "&nbsp;&nbsp;&nbsp;&nbsp;O trecho do código acima nos traz a criação da classe `Abelha`, que herda as características da classe `Animal`, a qual, por sua vez, herda as características da classe `SerVivo`. Nela, podemos, além de utilizar os métodos inerentes ao ser vivo e ao animal, polinizar elementos da classe `Angiosperma`."
   ]
  },
  {
   "cell_type": "markdown",
   "metadata": {},
   "source": [
    "#### Conclusão"
   ]
  },
  {
   "cell_type": "markdown",
   "metadata": {},
   "source": [
    "<div style=\"text-align: justify;\">\n",
    "\n",
    "&nbsp;&nbsp;&nbsp;&nbsp;O presente projeto apresenta a possibilidade de representar relações reais no meio computacional, abrindo um leque de técnicas utilizadas em diferentes áreas de estudo. Além disso, os conceitos aqui apresentados não seguem regras rígidas, sendo, portanto, desaconselhada a utilização do código para fins técnicos."
   ]
  },
  {
   "cell_type": "markdown",
   "metadata": {},
   "source": [
    "### Referências\n",
    "\n",
    "[1].CASSAR, Daniel. [Material de sala de aula]. Redes Neurais e Algoritmos Genéticos, 2025, Ilum - Escola de Ciência."
   ]
  }
 ],
 "metadata": {
  "kernelspec": {
   "display_name": "Python 3 (ipykernel)",
   "language": "python",
   "name": "python3"
  },
  "language_info": {
   "codemirror_mode": {
    "name": "ipython",
    "version": 3
   },
   "file_extension": ".py",
   "mimetype": "text/x-python",
   "name": "python",
   "nbconvert_exporter": "python",
   "pygments_lexer": "ipython3",
   "version": "3.11.6"
  }
 },
 "nbformat": 4,
 "nbformat_minor": 4
}
