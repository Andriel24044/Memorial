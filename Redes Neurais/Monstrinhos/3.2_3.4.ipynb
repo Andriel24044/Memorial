{
 "cells": [
  {
   "cell_type": "markdown",
   "id": "42f66fd3",
   "metadata": {},
   "source": [
    "<div style=\"text-align: justify;\">\n",
    "\n",
    "### **3.2** “Átomos não são bolinhas e ligações químicas não são pauzinhos” — Prof. Julio\n",
    "\n",
    "**Objetivo:** Utilize classes de Python para modelar elementos químicos e moléculas.\n",
    "\n",
    "**Considerações do experimento:** Crie uma classe chamada Elemento. Todo elemento\n",
    "químico utilizado nesta tarefa deve ser uma instância desta classe. Toda instância\n",
    "da classe Elemento deve ter os seguintes atributos: símbolo do elemento, número atômico\n",
    "do elemento e peso atômico do elemento (fique à vontade para incluir outras informações\n",
    "se quiser). Crie uma classe chamada Molecula. Esta classe deve receber um dicionário\n",
    "onde as chaves representam os elementos e os valores representam a quantidade do respectivo\n",
    "elemento. A classe Molecula deve ter um método capaz de exibir o peso atômico"
   ]
  },
  {
   "cell_type": "markdown",
   "id": "3d601315",
   "metadata": {},
   "source": [
    "<div style=\"text-align: justify;\">\n",
    "\n",
    "### **3.4** `__dunder__`\n",
    "**Objetivo:** Se informe sobre métodos dunder que não foram utilizados no material de\n",
    "aula e crie uma classe que contenha pelo menos 3 destes métodos dunder. Faça códigos\n",
    "onde cada um destes métodos dunder seja acessado sem os chamar explicitamente (exemplo:\n",
    "não é para rodar a.`__add__`(b) mas sim a + b para o caso do dunder `__add__`).\n",
    "\n",
    "\n",
    "**Considerações do experimento:** A classe deve conter pelo menos 3 métodos dunder\n",
    "que não foram vistos no material da disciplina. Sua classe deve fazer sentido, isto é, não\n",
    "crie uma classe “sem pé nem cabeça” apenas para a entrega. Reflita sobre uma classe\n",
    "onde os métodos dunder propostos realmente fazem sentido. Na sua entrega, explique\n",
    "brevemente o que fazem os métodos dunder que escolheu e mostre eles em ação com uma\n",
    "instância da sua classe."
   ]
  },
  {
   "cell_type": "markdown",
   "id": "1deb0a81",
   "metadata": {},
   "source": [
    "<div style=\"text-align: justify;\">\n",
    "\n",
    "#### Código"
   ]
  },
  {
   "cell_type": "markdown",
   "id": "1385bc7f",
   "metadata": {},
   "source": [
    "<div style=\"text-align: justify;\">\n",
    "\n",
    "&nbsp;&nbsp;&nbsp;&nbsp;O código abaixo apresenta duas classes (`Elemento` e `Molecula`). A classe `Elemento` permite criar elementos químicos, definindo seu símbolo, número atômico e peso atômico. Já a classe `Molecula` possibilita a criação de moléculas a partir dos elementos definidos. Ela recebe um dicionário contendo os elementos e suas respectivas quantidades. Nessa classe, é possível utilizar o método `gerar_molecula` para construir a molécula e o método `calcular_peso` para calcular seu peso atômico. Ademais, foram adicionados os métodos especiais (`__lt__`, `__gt__`, `__le__`, `__ge__` e `__eq__`) para permitir a comparação entre os pesos atômicos das moléculas.\n"
   ]
  },
  {
   "cell_type": "code",
   "execution_count": 1,
   "id": "0473e256",
   "metadata": {},
   "outputs": [],
   "source": [
    "class Elemento:\n",
    "    def __init__(self, simbolo, num_atomico, peso_atomico): # self indica uma instancia que ainda não existe. Uma forma de referenciar.\n",
    "        self.simb = simbolo\n",
    "        self.na = num_atomico\n",
    "        self.pa = peso_atomico\n",
    "        \n",
    "    def __repr__(self):\n",
    "        return f'O elemento químico {self.simb} possui número atômico igual a {self.na} e peso atômico igual a {self.pa}'\n",
    "        \n",
    "\n",
    "class Molecula:\n",
    "    def __init__(self, dicionario):        \n",
    "        self.mols = dicionario\n",
    "    \n",
    "    def __lt__(self, other): # <\n",
    "        return self.calcular_peso() < other.calcular_peso()\n",
    "    \n",
    "    def __gt__(self, other): # >\n",
    "        return self.calcular_peso() > other.calcular_peso()\n",
    "    \n",
    "    def __le__(self, other): # <=\n",
    "        return self.calcular_peso() <= other.calcular_peso()\n",
    "    \n",
    "    def __ge__(self, other): # >=\n",
    "        return self.calcular_peso() >= other.calcular_peso()\n",
    "    \n",
    "    def __eq__(self, other): # ==\n",
    "        return self.calcular_peso() == other.calcular_peso()\n",
    "\n",
    "    def gerar_molecula(self):\n",
    "        return ''.join(f\"{elemento.simb}{quantidade if quantidade > 1 else ''}\" for elemento, quantidade in self.mols.items())\n",
    "        \n",
    "    def calcular_peso(self):\n",
    "        return sum([elemento.pa * quantidade for elemento, quantidade in self.mols.items()])"
   ]
  },
  {
   "cell_type": "markdown",
   "id": "9da23846",
   "metadata": {},
   "source": [
    "<div style=\"text-align: justify;\">\n",
    "\n",
    "Foi adicionado todos os elementos para utilização."
   ]
  },
  {
   "cell_type": "code",
   "execution_count": 2,
   "id": "25ed2dc1",
   "metadata": {},
   "outputs": [],
   "source": [
    "H = Elemento('H', 1, 1.008)\n",
    "He = Elemento('He', 2, 4.0026)\n",
    "Li = Elemento('Li', 3, 6.94)\n",
    "Be = Elemento('Be', 4, 9.0122)\n",
    "B = Elemento('B', 5, 10.81)\n",
    "C = Elemento('C', 6, 12.011)\n",
    "N = Elemento('N', 7, 14.007)\n",
    "O = Elemento('O', 8, 15.999)\n",
    "F = Elemento('F', 9, 18.998)\n",
    "Ne = Elemento('Ne', 10, 20.180)\n",
    "Na = Elemento('Na', 11, 22.990)\n",
    "Mg = Elemento('Mg', 12, 24.305)\n",
    "Al = Elemento('Al', 13, 26.982)\n",
    "Si = Elemento('Si', 14, 28.085)\n",
    "P = Elemento('P', 15, 30.974)\n",
    "S = Elemento('S', 16, 32.06)\n",
    "Cl = Elemento('Cl', 17, 35.45)\n",
    "Ar = Elemento('Ar', 18, 39.948)\n",
    "K = Elemento('K', 19, 39.098)\n",
    "Ca = Elemento('Ca', 20, 40.078)\n",
    "Sc = Elemento('Sc', 21, 44.956)\n",
    "Ti = Elemento('Ti', 22, 47.867)\n",
    "V = Elemento('V', 23, 50.942)\n",
    "Cr = Elemento('Cr', 24, 51.996)\n",
    "Mn = Elemento('Mn', 25, 54.938)\n",
    "Fe = Elemento('Fe', 26, 55.845)\n",
    "Co = Elemento('Co', 27, 58.933)\n",
    "Ni = Elemento('Ni', 28, 58.693)\n",
    "Cu = Elemento('Cu', 29, 63.546)\n",
    "Zn = Elemento('Zn', 30, 65.38)\n",
    "Ga = Elemento('Ga', 31, 69.723)\n",
    "Ge = Elemento('Ge', 32, 72.630)\n",
    "As = Elemento('As', 33, 74.922)\n",
    "Se = Elemento('Se', 34, 78.971)\n",
    "Br = Elemento('Br', 35, 79.904)\n",
    "Kr = Elemento('Kr', 36, 83.798)\n",
    "Rb = Elemento('Rb', 37, 85.468)\n",
    "Sr = Elemento('Sr', 38, 87.62)\n",
    "Y = Elemento('Y', 39, 88.906)\n",
    "Zr = Elemento('Zr', 40, 91.224)\n",
    "Nb = Elemento('Nb', 41, 92.906)\n",
    "Mo = Elemento('Mo', 42, 95.95)\n",
    "Tc = Elemento('Tc', 43, 98)\n",
    "Ru = Elemento('Ru', 44, 101.07)\n",
    "Rh = Elemento('Rh', 45, 102.91)\n",
    "Pd = Elemento('Pd', 46, 106.42)\n",
    "Ag = Elemento('Ag', 47, 107.87)\n",
    "Cd = Elemento('Cd', 48, 112.41)\n",
    "In = Elemento('In', 49, 114.82)\n",
    "Sn = Elemento('Sn', 50, 118.71)\n",
    "Sb = Elemento('Sb', 51, 121.76)\n",
    "Te = Elemento('Te', 52, 127.60)\n",
    "I = Elemento('I', 53, 126.90)\n",
    "Xe = Elemento('Xe', 54, 131.29)\n",
    "Cs = Elemento('Cs', 55, 132.91)\n",
    "Ba = Elemento('Ba', 56, 137.33)\n",
    "La = Elemento('La', 57, 138.91)\n",
    "Ce = Elemento('Ce', 58, 140.12)\n",
    "Pr = Elemento('Pr', 59, 140.91)\n",
    "Nd = Elemento('Nd', 60, 144.24)\n",
    "Pm = Elemento('Pm', 61, 145)\n",
    "Sm = Elemento('Sm', 62, 150.36)\n",
    "Eu = Elemento('Eu', 63, 151.96)\n",
    "Gd = Elemento('Gd', 64, 157.25)\n",
    "Tb = Elemento('Tb', 65, 158.93)\n",
    "Dy = Elemento('Dy', 66, 162.50)\n",
    "Ho = Elemento('Ho', 67, 164.93)\n",
    "Er = Elemento('Er', 68, 167.26)\n",
    "Tm = Elemento('Tm', 69, 168.93)\n",
    "Yb = Elemento('Yb', 70, 173.05)\n",
    "Lu = Elemento('Lu', 71, 174.97)\n",
    "Hf = Elemento('Hf', 72, 178.49)\n",
    "Ta = Elemento('Ta', 73, 180.95)\n",
    "W = Elemento('W', 74, 183.84)\n",
    "Re = Elemento('Re', 75, 186.21)\n",
    "Os = Elemento('Os', 76, 190.23)\n",
    "Ir = Elemento('Ir', 77, 192.22)\n",
    "Pt = Elemento('Pt', 78, 195.08)\n",
    "Au = Elemento('Au', 79, 196.97)\n",
    "Hg = Elemento('Hg', 80, 200.59)\n",
    "Tl = Elemento('Tl', 81, 204.38)\n",
    "Pb = Elemento('Pb', 82, 207.2)\n",
    "Bi = Elemento('Bi', 83, 208.98)\n",
    "Po = Elemento('Po', 84, 209)\n",
    "At = Elemento('At', 85, 210)\n",
    "Rn = Elemento('Rn', 86, 222)\n",
    "Fr = Elemento('Fr', 87, 223)\n",
    "Ra = Elemento('Ra', 88, 226)\n",
    "Ac = Elemento('Ac', 89, 227)\n",
    "Th = Elemento('Th', 90, 232.04)\n",
    "Pa = Elemento('Pa', 91, 231.04)\n",
    "U = Elemento('U', 92, 238.03)\n",
    "Np = Elemento('Np', 93, 237)\n",
    "Pu = Elemento('Pu', 94, 244)\n",
    "Am = Elemento('Am', 95, 243)\n",
    "Cm = Elemento('Cm', 96, 247)\n",
    "Bk = Elemento('Bk', 97, 247)\n",
    "Cf = Elemento('Cf', 98, 251)\n",
    "Es = Elemento('Es', 99, 252)\n",
    "Fm = Elemento('Fm', 100, 257)\n",
    "Md = Elemento('Md', 101, 258)\n",
    "No = Elemento('No', 102, 259)\n",
    "Lr = Elemento('Lr', 103, 266)\n",
    "Rf = Elemento('Rf', 104, 267)\n",
    "Db = Elemento('Db', 105, 270)\n",
    "Sg = Elemento('Sg', 106, 271)\n",
    "Bh = Elemento('Bh', 107, 270)\n",
    "Hs = Elemento('Hs', 108, 277)\n",
    "Mt = Elemento('Mt', 109, 278)\n",
    "Ds = Elemento('Ds', 110, 281)\n",
    "Rg = Elemento('Rg', 111, 282)\n",
    "Cn = Elemento('Cn', 112, 285)\n",
    "Nh = Elemento('Nh', 113, 286)\n",
    "Fl = Elemento('Fl', 114, 289)\n",
    "Mc = Elemento('Mc', 115, 290)\n",
    "Lv = Elemento('Lv', 116, 293)\n",
    "Ts = Elemento('Ts', 117, 294)\n",
    "Og = Elemento('Og', 118, 294)\n",
    "\n",
    "elementos = [H, He, Li, Be, B, C, N, O, F, Ne, Na, Mg, Al, Si, P, S, Cl, Ar, K, Ca, Fe, Cu, Zn, Ag, Au, Hg, Pb, U]"
   ]
  },
  {
   "cell_type": "markdown",
   "id": "e013914e",
   "metadata": {},
   "source": [
    "#### Testes"
   ]
  },
  {
   "cell_type": "markdown",
   "id": "90ffe9e5",
   "metadata": {},
   "source": [
    "Para fins de teste iremos criar uma molecula de água e calcular o seu peso atomico."
   ]
  },
  {
   "cell_type": "code",
   "execution_count": 3,
   "id": "fb9011a0",
   "metadata": {},
   "outputs": [
    {
     "name": "stdout",
     "output_type": "stream",
     "text": [
      "Molécula gerada: H2O\n",
      "Peso atômico: 18.015\n"
     ]
    }
   ],
   "source": [
    "agua = {H: 2, O: 1}\n",
    "\n",
    "molecula_de_agua = Molecula(agua)\n",
    "\n",
    "print(f'Molécula gerada: {molecula_de_agua.gerar_molecula()}\\nPeso atômico: {molecula_de_agua.calcular_peso()}')"
   ]
  },
  {
   "cell_type": "markdown",
   "id": "a41bcf23",
   "metadata": {},
   "source": [
    "Agora iremos testar a funcionalidade dos dunders criando duas moleculas diferentes."
   ]
  },
  {
   "cell_type": "code",
   "execution_count": 4,
   "id": "49afe62f",
   "metadata": {},
   "outputs": [],
   "source": [
    "dissulfeto_de_molibidenio = {Mo: 1, S: 2}\n",
    "acido_cloridrico = {H: 1, Cl: 1}\n",
    "\n",
    "molecula_de_MoS2 = Molecula(dissulfeto_de_molibidenio)\n",
    "molecula_de_HCl = Molecula(acido_cloridrico)"
   ]
  },
  {
   "cell_type": "code",
   "execution_count": 5,
   "id": "b409e606",
   "metadata": {},
   "outputs": [
    {
     "data": {
      "text/plain": [
       "(True, False, False, True, True)"
      ]
     },
     "execution_count": 5,
     "metadata": {},
     "output_type": "execute_result"
    }
   ],
   "source": [
    "(\n",
    "    molecula_de_MoS2 > molecula_de_HCl,\n",
    "    molecula_de_MoS2 < molecula_de_HCl,\n",
    "    molecula_de_MoS2 == molecula_de_HCl,\n",
    "    molecula_de_MoS2 == molecula_de_MoS2,\n",
    "    molecula_de_HCl >= molecula_de_HCl\n",
    ")\n"
   ]
  },
  {
   "cell_type": "markdown",
   "id": "0acb075e",
   "metadata": {},
   "source": [
    "A partir dos testes é notavel a funcionalidade dos dunders."
   ]
  },
  {
   "cell_type": "markdown",
   "id": "a1dde1ce",
   "metadata": {},
   "source": [
    "#### Conclusão"
   ]
  },
  {
   "cell_type": "markdown",
   "id": "c54b053a",
   "metadata": {},
   "source": [
    "<div style=\"text-align: justify;\">\n",
    "\n",
    "&nbsp;&nbsp;&nbsp;&nbsp;O projeto visa elucidar alguns conceitos sobre classes, como a utilização de classes dentro de outras e o uso de métodos especiais (dunders), incorporando um conceito de ampla importância e reconhecimento."
   ]
  },
  {
   "cell_type": "markdown",
   "id": "cadcadd9",
   "metadata": {},
   "source": [
    "#### Referências"
   ]
  },
  {
   "cell_type": "markdown",
   "id": "7084b8e9",
   "metadata": {},
   "source": [
    "<div style=\"text-align: justify;\">\n",
    "\n",
    "[**1**] W3SCHOOLS. Python String join() Method. Disponível em: \n",
    "https://www.w3schools.com/python/ref_string_join.asp.\n",
    "\n",
    "[**2**] W3SCHOOLS. Python List Comprehension. Disponível em: https://www.w3schools.com/python/python_lists_comprehension.asp. \n",
    "\n",
    "[**3**].CASSAR, Daniel. [Material de sala de aula]. Redes Neurais e Algoritmos Genéticos, 2025, Ilum - Escola de Ciência."
   ]
  }
 ],
 "metadata": {
  "kernelspec": {
   "display_name": "Python 3 (ipykernel)",
   "language": "python",
   "name": "python3"
  },
  "language_info": {
   "codemirror_mode": {
    "name": "ipython",
    "version": 3
   },
   "file_extension": ".py",
   "mimetype": "text/x-python",
   "name": "python",
   "nbconvert_exporter": "python",
   "pygments_lexer": "ipython3",
   "version": "3.11.6"
  }
 },
 "nbformat": 4,
 "nbformat_minor": 5
}
