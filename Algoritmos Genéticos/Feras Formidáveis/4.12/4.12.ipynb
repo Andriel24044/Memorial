{
 "cells": [
  {
   "cell_type": "markdown",
   "metadata": {},
   "source": [
    "# 4.12 Novos palíndromos\n",
    "\n",
    "Nomes: Andressa Cristine M. Costa e Andriel Vinicius M. da Silva\n",
    "\n",
    "### Objetivo: \n",
    "Encontre pelo menos 10 palíndromos diferentes de 5 letras. Estes palíndromos devem ter pelo menos uma vogal. Não é necessário que eles formem palavras válidas\n",
    "em português ou qualquer outro idioma.\n",
    "\n",
    "**Dica:** Nada te impede de inventar um novo operador de mutação. Existe uma forma\n",
    "de melhorar bastante a convergência deste problema com um operador de mutação especializado para esta tarefa.\n",
    "Comentário: o código deve de alguma forma gerar os 10 palíndromos diferentes,\n",
    "mas ninguém disse que eles devem ser encontrados na mesma evolução de um algoritmo\n",
    "genético. Quem sabe evoluir um algoritmo mais de uma vez possa ser uma estratégia\n",
    "válida.\n",
    "\n",
    "**Observação:** Um palíndromo é uma espécie de palavra simétrica, \"diz-se de ou frase ou palavra que se pode ler, indiferentemente, da esquerda para a direita ou vice-versa\"[2].\n",
    "\n",
    "### Resolução:\n",
    "\n",
    "Nesse exercício foi necessário implementar uma estratégia para gerar candidatos a palíndromos e verificar se atendiam a condição de apresentar pelo menos uma vogal. Para isso, criamos uma série de funções conforme a seguir:\n",
    "\n",
    "**I) Geração de candidatos e população:** Criamos duas funções para isso, gerando candidatos a partir do sorteio de 5 letras aleatórias e criando uma população listando esses candidatos em uma lista.\n",
    "\n",
    "```python\n",
    "\n",
    "def gera_candidato(letras_possiveis):\n",
    "    \"\"\" Gera candidatos a partir de um sorteio aleatório\n",
    "\n",
    "        Args:\n",
    "            letras_possiveis: uma lista contendo as letras do alfabeto em lowercase\n",
    "    \"\"\"\n",
    "    palavra = ''\n",
    "    for i in range(5):\n",
    "        palavra += random.choice(letras_possiveis)\n",
    "    \n",
    "    return palavra\n",
    "\n",
    "\n",
    "def populacao_palindromo(tamanho_populacao, letras_possiveis):\n",
    "    \"\"\" Gera a população de candidatos a palindromo\n",
    "\n",
    "        Args:\n",
    "            tamanho_populacao: um inteiro com o tamanho determinado para a população\n",
    "            letras_possiveis: uma lista contendo as letras do alfabeto em lowercase\n",
    "    \"\"\"\n",
    "    populacao = []\n",
    "\n",
    "    for _ in range(tamanho_populacao):\n",
    "        populacao.append(gera_candidato(letras_possiveis))\n",
    "\n",
    "    return populacao\n",
    "```\n",
    "\n",
    "**II) Funções objetivo:** Implementamos também novas funções objetivo, sendo que em `funcao_objetivo_palindromo` realizamos também a verificação de que há pelo menos uma vogal no candidato por meio da função nativa do Python `any()`, se não tiver, retornamos infinito para eliminar essas opções no processo de seleção. Então calculamos a distância letra a letra entre o candidato e o seu oposto. Em `funcao_objetivo_palindromo_pop`, armazenamos o fitness para cada candidato.\n",
    "\n",
    "```python\n",
    "\n",
    "def funcao_objetivo_palindromo(candidato):\n",
    "    \"\"\"Computa a funcao objetivo de um candidato a palindromo e retorna a distancia entre o candidato e seu inverso\n",
    "\n",
    "    Args:\n",
    "      candidato: uma string contendo letras sorteadas aleatoriamente\n",
    "\n",
    "    \"\"\"\n",
    "    distancia = 0\n",
    "    substring = ['a','e','i','o','u']\n",
    "\n",
    "    for i in candidato:\n",
    "        if any (sub in candidato for sub in substring):\n",
    "            for letra_candidato, letra_inversa in zip(candidato, candidato[::-1]):\n",
    "                num_letra_candidato = ord(letra_candidato)\n",
    "                num_letra_inversa = ord(letra_inversa)\n",
    "                distancia += abs(num_letra_candidato - num_letra_inversa)\n",
    "\n",
    "            return distancia \n",
    "        else:\n",
    "            return float(\"inf\")\n",
    "\n",
    "def funcao_objetivo_palindromo_pop(populacao):\n",
    "    \"\"\"Computa a funcao objetivo da população de candidatos\n",
    "\n",
    "    Args:\n",
    "      populacao: uma lista contendo várias strings (candidatos)\n",
    "    \"\"\"\n",
    "\n",
    "    fitness = []\n",
    "\n",
    "    for individuo in populacao:\n",
    "        fitness.append(funcao_objetivo_palindromo(individuo))\n",
    "\n",
    "    return fitness\n",
    "```\n",
    "\n",
    "**III) Cruzamento:** Empregado conforme [1]. Realiza um cruzamento sorteando qual gene será designado ao filho ao aleatoriamente. Modificamos o formato dos filhos, que agora são strings.\n",
    "\n",
    "**IV) Funções de mutação:** Foram adaptadas para a modificação do formato do candidato, que agora é uma string. Basicamente, mudamos as partes de adicionar a uma lista para adicionar a uma string com `replace`."
   ]
  },
  {
   "cell_type": "markdown",
   "metadata": {},
   "source": [
    "### Implementação\n",
    "\n",
    "Foi feita conforme a referência [1]."
   ]
  },
  {
   "cell_type": "code",
   "execution_count": 1,
   "metadata": {},
   "outputs": [],
   "source": [
    "from string import ascii_lowercase as CARACTERES_POSSIVEIS\n",
    "\n",
    "from funcoes_palindromo import funcao_objetivo_palindromo_pop\n",
    "from funcoes_palindromo import populacao_palindromo\n",
    "from funcoes_palindromo import funcao_cruzamento\n",
    "from funcoes_palindromo import funcao_mutacao1\n",
    "from funcoes_palindromo import funcao_mutacao2\n",
    "from funcoes_palindromo import selecao_torneio_min as funcao_selecao\n"
   ]
  },
  {
   "cell_type": "code",
   "execution_count": 2,
   "metadata": {},
   "outputs": [],
   "source": [
    "TAMANHO_POPULACAO = 1000\n",
    "CHANCE_DE_CRUZAMENTO = 0.5\n",
    "CHANCE_DE_MUTACAO = 0.025\n",
    "TAMANHO_TORNEIO = 10"
   ]
  },
  {
   "cell_type": "markdown",
   "metadata": {},
   "source": [
    "Aqui adicionamos a variável `palindromos` para armazenar os melhores resultados a cada geração em formato de lista. Assim geramos 10 palíndromos conforme requisitado."
   ]
  },
  {
   "cell_type": "code",
   "execution_count": 3,
   "metadata": {},
   "outputs": [
    {
     "name": "stdout",
     "output_type": "stream",
     "text": [
      "1 eufue\n",
      "1 ekrke\n",
      "1 xfifx\n",
      "1 iwwwi\n",
      "1 usnsu\n",
      "1 fzgze\n",
      "2 izrzi\n",
      "1 gukug\n",
      "1 ldadl\n",
      "1 nfifn\n",
      "1 ujejv\n",
      "2 bijib\n"
     ]
    },
    {
     "data": {
      "text/plain": [
       "['eufue',\n",
       " 'ekrke',\n",
       " 'xfifx',\n",
       " 'iwwwi',\n",
       " 'usnsu',\n",
       " 'izrzi',\n",
       " 'gukug',\n",
       " 'ldadl',\n",
       " 'nfifn',\n",
       " 'bijib']"
      ]
     },
     "execution_count": 3,
     "metadata": {},
     "output_type": "execute_result"
    }
   ],
   "source": [
    "palindromos = []\n",
    "for i in range(10): \n",
    "    menor_fitness_geral = float(\"inf\")\n",
    "    geracao = 0\n",
    "    populacao = populacao_palindromo(TAMANHO_POPULACAO, CARACTERES_POSSIVEIS)\n",
    "\n",
    "    while menor_fitness_geral != 0:\n",
    "        \n",
    "        # Seleção\n",
    "        fitness = funcao_objetivo_palindromo_pop(populacao)        \n",
    "        selecionados = funcao_selecao(populacao, fitness, TAMANHO_TORNEIO)\n",
    "        \n",
    "        # Cruzamento\n",
    "        proxima_geracao = []\n",
    "        for pai, mae in zip(selecionados[::2], selecionados[1::2]):\n",
    "            individuo1, individuo2 = funcao_cruzamento(pai, mae, CHANCE_DE_CRUZAMENTO)\n",
    "            proxima_geracao.append(individuo1)\n",
    "            proxima_geracao.append(individuo2)\n",
    "\n",
    "        # Mutação\n",
    "        funcao_mutacao1(proxima_geracao, CHANCE_DE_MUTACAO, list(CARACTERES_POSSIVEIS))\n",
    "        funcao_mutacao2(proxima_geracao, CHANCE_DE_MUTACAO, list(CARACTERES_POSSIVEIS))\n",
    "        \n",
    "        # Encerramento\n",
    "        populacao = proxima_geracao\n",
    "        geracao += 1\n",
    "        \n",
    "        fitness = funcao_objetivo_palindromo_pop(populacao)\n",
    "        menor_fitness_observado = min(fitness)\n",
    "        \n",
    "        if menor_fitness_observado < menor_fitness_geral:\n",
    "            menor_fitness_geral = menor_fitness_observado\n",
    "            indice = fitness.index(menor_fitness_observado)\n",
    "            candidato = populacao[indice]\n",
    "            print(geracao, \"\".join(candidato))\n",
    "    palindromos.append(candidato)\n",
    "\n",
    "palindromos\n"
   ]
  },
  {
   "cell_type": "markdown",
   "metadata": {},
   "source": [
    "### Conclusão"
   ]
  },
  {
   "cell_type": "markdown",
   "metadata": {},
   "source": [
    "Nesse exercício foi fundamental pensarmos em maneiras de atender às restrições impostas para o candidato a palíndromo. Criamos funções para gerar candidatos aleatoriamente a partir de letras e depois criamos uma população. Dentro das funções objetivo também aplicamos a condição de que o candidato precisa ter pelo menos uma letra. O nosso critério para verificar se o candidato é um palíndromo consiste na observação do fitness retornado pela função objetivo. Se esse fitness for igual a 0, então a palavra é um palíndromo. Uma vez que retornamos 10 palíndromos, acreditamos ter cumprido com êxito a proposta principal da atividade."
   ]
  },
  {
   "cell_type": "markdown",
   "metadata": {},
   "source": [
    "### Referências\n",
    "\n",
    "[1]. CASSAR, Daniel. \"ATP-303 GA 4.2 - Notebook descobrindo a senha\" [Material de sala de aula]. Redes Neurais e Algoritmos Genéticos, 2025, Ilum - Escola de Ciência.\n",
    "\n",
    "[2]. Oxford Languages and Google - Portuguese | Oxford Languages. Disponível em: <https://languages.oup.com/google-dictionary-pt>.\n"
   ]
  }
 ],
 "metadata": {
  "kernelspec": {
   "display_name": "Python 3 (ipykernel)",
   "language": "python",
   "name": "python3"
  },
  "language_info": {
   "codemirror_mode": {
    "name": "ipython",
    "version": 3
   },
   "file_extension": ".py",
   "mimetype": "text/x-python",
   "name": "python",
   "nbconvert_exporter": "python",
   "pygments_lexer": "ipython3",
   "version": "3.11.6"
  }
 },
 "nbformat": 4,
 "nbformat_minor": 4
}
