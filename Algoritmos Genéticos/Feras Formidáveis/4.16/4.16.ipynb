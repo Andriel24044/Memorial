{
 "cells": [
  {
   "cell_type": "markdown",
   "metadata": {},
   "source": [
    "# 4.16 “Se não está funcionando, aumenta a temperatura que dá certo” — Autor anônimo\n",
    "<div style=\"text-align: justify\">\n",
    "\n",
    "### Objetivo: \n",
    "Proponha um problema de otimização com restrição. Implemente uma\n",
    "rotina de recozimento simulado (simulated annealing) no código de algoritmo genético\n",
    "desenvolvido nesta disciplina (isto é, não é para usar o DEAP). Utilize de um algoritmo\n",
    "genético com recozimento simulado para resolver o problema com restrição escolhido.\n",
    "Aproveite e conte para o leitor como funciona o processo de recozimento simulado que\n",
    "você implementou."
   ]
  },
  {
   "cell_type": "markdown",
   "metadata": {},
   "source": [
    "## Resolução\n",
    "<div style=\"text-align: justify\">\n",
    "\n",
    "Para resolver esse problema iremos utilizar o já resolvido problema dos caixeiros que preferem cidades ímpares, com a clara restrição de que os indivíduos precisam viajam para as cidades ímpares antes de começar a interagir com as cidades pares. Para tentar otimizar esse problema iremos aplicar o algoritmo de recozimento simulado."
   ]
  },
  {
   "cell_type": "markdown",
   "metadata": {},
   "source": [
    "#### Contextualização\r\n",
    "<div style=\"text-align: justify\">\r\n",
    "\r\n",
    "Para iniciar, primeiro iremos definir do que exatamente se trata esse algoritmo.\r\n",
    "O algoritmo aqui apresentado, o recozimento simulado (ou Simulated Annealing, em inglês), é inspirado em uma técnica física utilizada no processo de fabricação de ligas metálicas. Nesse processo, a liga é resfriada lentamente após sua formação, permitindo que os átomos se organizem em um estado de menor energia. Isso evita que o material fique preso em configurações de energia subótima, conhecidas como mínimos locais, o que pode acontecer quando o resfriamento ocorre de forma muito rápida.\r\n",
    "\r\n",
    "Ao adaptar esse conceito para problemas de otimização, o recozimento simulado busca encontrar a melhor solução (ou uma solução suficientemente boa) para um problema, evitando ficar preso em ótimos locais. Ele faz isso aceitando, com certa probabilidade, soluções piores nas primeiras etapas da busca — uma forma de permitir que o algoritmo escape de mínimos locais e explore melhor o espaço de soluções.\r\n",
    "\r\n",
    "Para implementar essa técnica em Python, analisamos iterativamente os vizinhos de um ponto (solução atual) e verificamos se a nova solução melhora ou piora a função objetivo. Caso melhore, ela é aceita. Caso piore, ainda pode ser aceita com uma probabilidade que depende da diferença entre os valores e da \"temperatura\" atual do sistema, que vai diminuindo com o tempo. Assim, o algoritmo começa explorando amplamente o espaço de soluções e, com o tempo, vai se tornando mais seletivo, focando no refinamento das melhores soluções encontradas. \r\n",
    "\r\n",
    "Probabilidade adotada em [1] para a implementação do algoritmo:\r\n",
    "\r\n",
    "$$\r\n",
    "P = \\exp\\left(-\\frac{\\Delta E}{T}\\right)\r\n",
    "$$"
   ]
  },
  {
   "cell_type": "markdown",
   "metadata": {},
   "source": [
    "### Implementação"
   ]
  },
  {
   "cell_type": "code",
   "execution_count": null,
   "metadata": {},
   "outputs": [],
   "source": [
    "from pprint import pprint\n",
    "from functools import partial\n",
    "from itertools import permutations\n",
    "\n",
    "from funcoes_caixeiro_impar import cria_cidades\n",
    "from funcoes_caixeiro_impar import populacao_caixeiro as cria_populacao\n",
    "from funcoes_caixeiro_impar import funcao_objetivo_pop_caixeiro\n",
    "from funcoes_caixeiro_impar import funcao_objetivo_caixeiro\n",
    "from funcoes_caixeiro_impar import selecao_torneio_min as funcao_selecao\n",
    "from funcoes_caixeiro_impar import cruzamento_ponto_simples as funcao_cruzamento\n",
    "from funcoes_caixeiro_impar import mutacao_troca as funcao_mutacao\n",
    "from funcoes_caixeiro_impar import plota_trajeto"
   ]
  },
  {
   "cell_type": "code",
   "execution_count": null,
   "metadata": {},
   "outputs": [],
   "source": [
    "TAMANHO_POPULACAO = 100\n",
    "NUM_GERACOES = 500\n",
    "CHANCE_DE_CRUZAMENTO = 0.5\n",
    "CHANCE_DE_MUTACAO = 0.05\n",
    "TAMANHO_TORNEIO = 3"
   ]
  },
  {
   "cell_type": "code",
   "execution_count": null,
   "metadata": {},
   "outputs": [],
   "source": [
    "NUM_CIDADES = 10\n",
    "CIDADES = cria_cidades(NUM_CIDADES)\n",
    "populacao = cria_populacao(TAMANHO_POPULACAO, CIDADES)"
   ]
  },
  {
   "cell_type": "code",
   "execution_count": null,
   "metadata": {},
   "outputs": [],
   "source": [
    "funcao_objetivo = partial(funcao_objetivo_pop_caixeiro, cidades=CIDADES)\n",
    "funcao_objetivo_individuo = partial(funcao_objetivo_caixeiro, cidades=CIDADES)"
   ]
  },
  {
   "cell_type": "markdown",
   "metadata": {},
   "source": [
    "#### Função gerar vizinho\n",
    "<div style=\"text-align: justify\">\r\n",
    "\n",
    "A função `gerar_vizinho` gera indivíduos que apresentam uma cidade trocada em relação à saída de uma geração do nosso algoritmo genético. Ela foi criada para trocar valores ímpares com valores pares. Isso será utilizado na etapa de Simulated Annealing para gerar pequenas modificações e posterior analise dos valores obtidos."
   ]
  },
  {
   "cell_type": "code",
   "execution_count": null,
   "metadata": {},
   "outputs": [],
   "source": [
    "import random\n",
    "\n",
    "def gerar_vizinho(atual):\n",
    "    sorteio = random.choice(['Par', 'Impar'])\n",
    "    vizinho = atual[:]\n",
    "\n",
    "    if sorteio == 'Par':\n",
    "        trocar_1 = random.choice(list(range(2, len(atual), 2)))\n",
    "        trocar_2 = random.choice(list(range(2, len(atual), 2)))\n",
    "    else:\n",
    "        trocar_1 = random.choice(list(range(1, len(atual), 2)))\n",
    "        trocar_2 = random.choice(list(range(1, len(atual), 2)))\n",
    "\n",
    "    vizinho[trocar_1], vizinho[trocar_2] = vizinho[trocar_2], vizinho[trocar_1]\n",
    "\n",
    "    return vizinho"
   ]
  },
  {
   "cell_type": "markdown",
   "metadata": {},
   "source": [
    "### Função recozimento simulado\n",
    "<div style=\"text-align: justify\">\n",
    "\n",
    "Aqui temos a construção da principal estrutura do projeto. A função é responsável por otimizar o melhor indivíduo obtido durante o processo do algoritmo genético. Ela recebe como parâmetros: o indivíduo, a função objetivo, a temperatura inicial, a temperatura final e o fator de resfriamento. Enquanto a temperatura não atingir o valor final, o algoritmo continuará gerando vizinhos, calculando seus valores de fitness e atualizando o melhor resultado encontrado. Quanto menor for a temperatura, menor será a probabilidade de aceitar uma solução com desempenho inferior, promovendo assim uma busca mais refinada por ótimos locais."
   ]
  },
  {
   "cell_type": "code",
   "execution_count": null,
   "metadata": {},
   "outputs": [],
   "source": [
    "import math\n",
    "\n",
    "def recozimento_simulado(individuo, funcao_objetivo, T_inicial=1.0, T_final=0.01, resfriamento=0.9):\n",
    "    atual = individuo[:]\n",
    "    melhor = individuo[:]\n",
    "    T = T_inicial\n",
    "\n",
    "    while T > T_final:\n",
    "        vizinho = gerar_vizinho(atual)\n",
    "        delta = funcao_objetivo(vizinho) - \\\n",
    "                funcao_objetivo(atual)\n",
    "\n",
    "        if delta > 0 or random.random() < math.exp(delta / T):\n",
    "            atual = vizinho\n",
    "            if funcao_objetivo(atual) < funcao_objetivo(melhor):\n",
    "                melhor = atual\n",
    "\n",
    "        T *= resfriamento\n",
    "\n",
    "    return melhor\n"
   ]
  },
  {
   "cell_type": "code",
   "execution_count": null,
   "metadata": {},
   "outputs": [],
   "source": [
    "hall_da_fama = []\n",
    "\n",
    "for n in range(NUM_GERACOES):\n",
    "    \n",
    "    # Seleção\n",
    "    fitness = funcao_objetivo(populacao)        \n",
    "    selecionados = funcao_selecao(populacao, fitness, TAMANHO_TORNEIO)\n",
    "    \n",
    "    # Cruzamento\n",
    "    proxima_geracao = []\n",
    "    for pai, mae in zip(selecionados[::2], selecionados[1::2]):\n",
    "        individuo1, individuo2 = funcao_cruzamento(pai, mae, CHANCE_DE_CRUZAMENTO)\n",
    "        proxima_geracao.append(individuo1)\n",
    "        proxima_geracao.append(individuo2)\n",
    "    \n",
    "    # Mutação\n",
    "    funcao_mutacao(proxima_geracao, CHANCE_DE_MUTACAO)\n",
    "    \n",
    "    # Atualização do hall da fama\n",
    "    fitness = funcao_objetivo(proxima_geracao)\n",
    "        \n",
    "    menor_fitness = min(fitness)\n",
    "    indice = fitness.index(menor_fitness)\n",
    "\n",
    "    melhor = recozimento_simulado(proxima_geracao[indice], funcao_objetivo_individuo, T_inicial=1.0, T_final=0.01, resfriamento=0.9)\n",
    "   \n",
    "    hall_da_fama.append(melhor)    \n",
    "    \n",
    "    # Encerramento\n",
    "    populacao = proxima_geracao"
   ]
  },
  {
   "cell_type": "code",
   "execution_count": null,
   "metadata": {},
   "outputs": [],
   "source": [
    "fitness = funcao_objetivo(hall_da_fama)\n",
    "menor_fitness = min(fitness)\n",
    "indice = fitness.index(menor_fitness)\n",
    "melhor_individuo_observado = hall_da_fama[indice]\n",
    "distancia = funcao_objetivo_caixeiro(melhor_individuo_observado, CIDADES)\n",
    "\n",
    "print()\n",
    "print(\"Melhor individuo obtido por algoritmos genéticos:\")\n",
    "print(melhor_individuo_observado, \"com distância:\", distancia)\n",
    "print()\n",
    "\n",
    "plota_trajeto(CIDADES, melhor_individuo_observado)"
   ]
  },
  {
   "cell_type": "code",
   "execution_count": null,
   "metadata": {},
   "outputs": [],
   "source": [
    "if NUM_CIDADES < 8:\n",
    "    fitness_otimo = float(\"inf\")\n",
    "\n",
    "    # testando todas as permutações possíveis\n",
    "    for caminho in permutations(list(CIDADES.keys())):\n",
    "        distancia = funcao_objetivo_caixeiro(caminho, CIDADES)\n",
    "        if distancia < fitness_otimo:\n",
    "            fitness_otimo = distancia\n",
    "            resposta_otima = caminho\n",
    "            melhor_distancia = distancia\n",
    "\n",
    "    print()\n",
    "    print(\"Melhor individuo obtido por busca exaustiva:\")\n",
    "    print(resposta_otima, \"com distância:\", melhor_distancia)\n",
    "    print()\n",
    "\n",
    "    plota_trajeto(CIDADES, resposta_otima)"
   ]
  },
  {
   "cell_type": "markdown",
   "metadata": {},
   "source": [
    "### Conclusão\n",
    "<div style=\"text-align: justify\">\n",
    "\n",
    "&nbsp;&nbsp;&nbsp;&nbsp;O algoritmo de otimização denominado recozimento simulado possui, assim como os algoritmos genéticos, um caráter inspirado em processos naturais. Dada essa semelhança, propôs-se aqui a integração entre os dois algoritmos, buscando um melhor desempenho na resolução do problema do caixeiro viajante que prefere cidades ímpares.\n",
    "\n",
    "### Referências\n",
    "\n",
    "[1]. CARNEIRO, A. L. C. Algoritmos de otimização: Hill Climbing e simulated annealing. Disponível em: <https://medium.com/data-hackers/algoritmos-de-otimiza%C3%A7%C3%A3o-hill-climbing-e-simulated-annealing-3803061f66f0>.\n",
    "\n",
    "[2] CASSAR, Daniel. [Material de sala de aula]. Redes Neurais e Algoritmos Genéticos, Ilum - Escola de Ciência."
   ]
  }
 ],
 "metadata": {
  "kernelspec": {
   "display_name": "Python 3 (ipykernel)",
   "language": "python",
   "name": "python3"
  },
  "language_info": {
   "codemirror_mode": {
    "name": "ipython",
    "version": 3
   },
   "file_extension": ".py",
   "mimetype": "text/x-python",
   "name": "python",
   "nbconvert_exporter": "python",
   "pygments_lexer": "ipython3",
   "version": "3.11.6"
  }
 },
 "nbformat": 4,
 "nbformat_minor": 4
}
