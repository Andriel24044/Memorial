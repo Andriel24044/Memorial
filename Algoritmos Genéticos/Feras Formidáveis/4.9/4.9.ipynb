{
 "cells": [
  {
   "cell_type": "markdown",
   "metadata": {},
   "source": [
    "<div style=\"text-align: justify\">\n",
    "\n",
    "# 4.9 A senha de tamanho variável\n",
    "\n",
    "Nomes: Andressa Cristine M. Costa e Andriel Vinicius Martins  da Silva\n",
    "\n",
    "**Objetivo:** Resolver o problema da senha de forma que você não forneça a informação\n",
    "do tamanho da senha para a função que gera a população. Considere que a senha pode\n",
    "ser uma string de 1 até 30 caracteres.\n",
    "\n",
    "**Dica:** A função objetivo terá que quantificar em sua métrica tanto se o candidato\n",
    "acertou as letras quanto se acertou o tamanho da senha.\n",
    "\n",
    "**Dica 2:** Você pode criar diferentes estratégias de mutação, não precisa ser apensa\n",
    "uma! Quem sabe uma função de mutação pode alterar letras e a outra pode alterar o\n",
    "tamanho da senha? Ver o exercício “Praticamente um X-man!”.\n",
    "\n",
    "**Dica 3:** Observe que você terá que pensar um pouco sobre como fará o cruzamento no\n",
    "caso de senhas de tamanhos diferentes. Quem sabe tenha que fazer alguma consideração\n",
    "adicional sobre quais são os valores possíveis para o ponto de corte…\n",
    "\n",
    "## Contextualização\n",
    "\n",
    "&nbsp;&nbsp;&nbsp;&nbsp;Nesse problema queremos adivinhar uma senha utilizando algoritmos genéticos de forma que não precisamos revelar o tamanho da senha de entrada para o algoritmo. Para isso, foram implementadas pequenas variações ao código apresentado em aula.\n",
    "\n",
    "&nbsp;&nbsp;&nbsp;&nbsp;No código original, a estratégia de resolução consistia em \"chutar\" aleatóriamente letras que compunham um tamanho especificado de senha e medir a distância entre o código do caractere do chute e o código do caractere da senha correta, calculando a distância entre eles. Nesse caso, precisamos fornecer \"chutes\" tanto para acertar os caracteres, quanto para acertar o tamanho da senha inserida. Por isso, foi necessário modificar levemente a lógica do código original.\n",
    "\n"
   ]
  },
  {
   "cell_type": "markdown",
   "metadata": {},
   "source": [
    "<div style=\"text-align: justify\">\n",
    "\n",
    "##  Resolução\n",
    "Modificações feitas em [1].\n",
    "\n",
    "Precisamos atualizar certas funções do arquivo \"funcoes_senha_var.py\" para atender as necessidades específicas desse problema.\n",
    "\n",
    "**I) Modificar a forma como o candidato é criado:** No caso, queremos que isso seja feito de forma independente do tamanho da senha.\n",
    "Na célula abaixo, modificamos a lógica de gerar um candidato para sorteio para receber um valor inteiro aleatório para representar o tamanho da senha de chute inicial. Após isso, geramos uma senha com esse tamanho por meio da função `gene_senha(letras_possiveis)`."
   ]
  },
  {
   "cell_type": "markdown",
   "metadata": {},
   "source": [
    "```python\n",
    "import random\n",
    "def cria_candidato_senha(letras_possiveis): \n",
    "    \"\"\"Cria um candidato para o problema da senha\n",
    "\n",
    "    Args:\n",
    "      indice_tamanho: guarda o tamanho sorteado para o chute de senha\n",
    "      letras_possiveis: letras possíveis de serem sorteadas.\n",
    "\n",
    "    \"\"\"\n",
    "    candidato = []\n",
    "    indice_tamanho = random.randint(1, 30)\n",
    "\n",
    "    for _ in range(indice_tamanho):\n",
    "        candidato.append(gene_senha(letras_possiveis))\n",
    "\n",
    "    return candidato"
   ]
  },
  {
   "cell_type": "markdown",
   "metadata": {},
   "source": [
    "<div style=\"text-align: justify\">\n",
    "\n",
    "**II) Modificação da função objetivo:** precisamos retirar a parte referente à variável que informava o tamanho da senha e inserir um condicional para verificar se o tamanho da senha de palpite é válido. Apenas se o tamanho do palpite for igual ao da senha verdadeira a comparação entre as distâncias dos caracteres será realizada."
   ]
  },
  {
   "cell_type": "markdown",
   "metadata": {},
   "source": [
    "```python\n",
    "def funcao_objetivo_senha(candidato, senha_verdadeira):\n",
    "    \"\"\"Computa a funcao objetivo de um candidato no problema da senha\n",
    "\n",
    "    Args:\n",
    "      candidato: um palpite para a senha que você quer descobrir\n",
    "      senha_verdadeira: a senha que você está tentando descobrir\n",
    "\n",
    "    \"\"\"\n",
    "    distancia = 0\n",
    "\n",
    "    if len(candidato) == len(senha_verdadeira):\n",
    "        for letra_candidato, letra_senha in zip(candidato, senha_verdadeira):\n",
    "            num_letra_candidato = ord(letra_candidato)\n",
    "            num_letra_senha = ord(letra_senha)\n",
    "            distancia += abs(num_letra_candidato - num_letra_senha)\n",
    "\n",
    "        return distancia    \n",
    "    else:\n",
    "        return float(\"inf\")"
   ]
  },
  {
   "cell_type": "markdown",
   "metadata": {},
   "source": [
    "Retornamos o `float(\"inf\")` nesse ponto para criar um filtro de seleção para os indivíduos. "
   ]
  },
  {
   "cell_type": "markdown",
   "metadata": {},
   "source": [
    "**III) Execução do código de algoritmos genéticos:** Nessa parte, empregamos o código conforme fornecido em aula."
   ]
  },
  {
   "cell_type": "code",
   "execution_count": null,
   "metadata": {},
   "outputs": [],
   "source": [
    "from string import ascii_lowercase, ascii_uppercase, digits\n",
    "\n",
    "from funcoes_senha_var import populacao_senha as cria_populacao\n",
    "from funcoes_senha_var import funcao_objetivo_pop_senha as funcao_objetivo\n",
    "from funcoes_senha_var import selecao_torneio_min as funcao_selecao\n",
    "from funcoes_senha_var import cruzamento_uniforme as funcao_cruzamento\n",
    "from funcoes_senha_var import mutacao_simples as funcao_mutacao1\n",
    "from funcoes_senha_var import mutacao_salto as funcao_mutacao2"
   ]
  },
  {
   "cell_type": "code",
   "execution_count": null,
   "metadata": {},
   "outputs": [],
   "source": [
    "SENHA = list(\"59laranjasDeliciosas\")\n",
    "CARACTERES_POSSIVEIS = ascii_lowercase + ascii_uppercase + digits\n",
    "\n",
    "TAMANHO_POPULACAO = 100\n",
    "CHANCE_DE_CRUZAMENTO = 0.5\n",
    "CHANCE_DE_MUTACAO = 0.025\n",
    "TAMANHO_TORNEIO = 10"
   ]
  },
  {
   "cell_type": "code",
   "execution_count": null,
   "metadata": {
    "tags": []
   },
   "outputs": [],
   "source": [
    "populacao = cria_populacao(TAMANHO_POPULACAO, CARACTERES_POSSIVEIS)"
   ]
  },
  {
   "cell_type": "code",
   "execution_count": null,
   "metadata": {},
   "outputs": [],
   "source": [
    "menor_fitness_geral = float(\"inf\")\n",
    "geracao = 0\n",
    "\n",
    "while menor_fitness_geral != 0:\n",
    "    \n",
    "    # Seleção\n",
    "    fitness = funcao_objetivo(populacao, SENHA)        \n",
    "    selecionados = funcao_selecao(populacao, fitness, TAMANHO_TORNEIO)\n",
    "    \n",
    "    # Cruzamento\n",
    "    proxima_geracao = []\n",
    "    for pai, mae in zip(selecionados[::2], selecionados[1::2]):\n",
    "        individuo1, individuo2 = funcao_cruzamento(pai, mae, CHANCE_DE_CRUZAMENTO)\n",
    "        proxima_geracao.append(individuo1)\n",
    "        proxima_geracao.append(individuo2)\n",
    "    \n",
    "    # Mutação\n",
    "    funcao_mutacao1(proxima_geracao, CHANCE_DE_MUTACAO, list(CARACTERES_POSSIVEIS))\n",
    "    funcao_mutacao2(proxima_geracao, CHANCE_DE_MUTACAO, list(CARACTERES_POSSIVEIS))\n",
    "    \n",
    "    # Encerramento\n",
    "    populacao = proxima_geracao\n",
    "    geracao += 1\n",
    "    \n",
    "    fitness = funcao_objetivo(populacao, SENHA)\n",
    "    menor_fitness_observado = min(fitness)\n",
    "    \n",
    "    if menor_fitness_observado < menor_fitness_geral:\n",
    "        menor_fitness_geral = menor_fitness_observado\n",
    "        indice = fitness.index(menor_fitness_observado)\n",
    "        candidato = populacao[indice]\n",
    "        print(geracao, \"\".join(candidato))"
   ]
  },
  {
   "cell_type": "markdown",
   "metadata": {},
   "source": [
    "### Conclusão"
   ]
  },
  {
   "cell_type": "markdown",
   "metadata": {},
   "source": [
    "<div style=\"text-align: justify\">\n",
    "\n",
    "&nbsp;&nbsp;&nbsp;&nbsp;Ao definir infinito para a distância retornada para os comprimentos diferentes da senha alvo, teremos uma espécie de filtro durante a seleção dos indivíduos, uma vez que a seleção funciona por torneio mínimo. Isso permite uma rápida convergência para o comprimento esperado. Após convergir, o código irá funcionar exatamente como no problema da senha com comprimento único. Provalvemente esse não será o resultado mais otimizado, porém cumpre o objetivo.\n"
   ]
  },
  {
   "cell_type": "markdown",
   "metadata": {},
   "source": [
    "### Referências\n",
    "\n",
    "[1].CASSAR, Daniel. [Material de sala de aula]. Redes Neurais e Algoritmos Genéticos, 2025, Ilum - Escola de Ciência."
   ]
  }
 ],
 "metadata": {
  "kernelspec": {
   "display_name": "Python 3 (ipykernel)",
   "language": "python",
   "name": "python3"
  },
  "language_info": {
   "codemirror_mode": {
    "name": "ipython",
    "version": 3
   },
   "file_extension": ".py",
   "mimetype": "text/x-python",
   "name": "python",
   "nbconvert_exporter": "python",
   "pygments_lexer": "ipython3",
   "version": "3.11.5"
  },
  "org": null
 },
 "nbformat": 4,
 "nbformat_minor": 4
}
