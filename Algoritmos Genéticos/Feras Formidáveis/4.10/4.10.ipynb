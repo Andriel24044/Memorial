{
 "cells": [
  {
   "cell_type": "markdown",
   "metadata": {},
   "source": [
    "# 4.10 O caixeiro que prefere cidades ímpares\n",
    "<div style=\"text-align: justify\">\n",
    "\n",
    "## Objetivo:\n",
    "Encontre o caminho de menor distância no problema do caixeiro viajante\n",
    "que prefere cidades ímpares e mostre ele de forma gráfica.\n",
    "\n",
    "## Considerações do experimento:\n",
    "&nbsp;&nbsp;&nbsp;&nbsp;Considere um número n ≥ 7 de coordenadas\n",
    "(x, y) de cidades (cada cidade ocupa uma posição (x, y) diferente). Você pode gerar as\n",
    "coordenadas de forma aleatória ou simplesmente usar as coordenadas que desejar. O\n",
    "caixeiro só anda em linha reta e apenas entre duas cidades. O caixeiro começa e termina\n",
    "seu trajeto na mesma cidade e, fora a cidade inicial, ele não visita nenhuma outra cidade\n",
    "mais de uma vez. Além disso, atribua um número inteiro para cada uma das n cidades que\n",
    "o caixeiro irá visitar, iniciando a contagem pelo número zero e aumentando esse número\n",
    "de 1 em 1. O caixeiro deverá necessariamente visitar primeiro as cidades com números\n",
    "ímpares antes das cidades com números pares. A cidade de número zero deve ser a cidade\n",
    "inicial."
   ]
  },
  {
   "cell_type": "markdown",
   "metadata": {},
   "source": [
    "## Resolução\n",
    "Modificações feitas em [1]\n",
    "<div style=\"text-align: justify\">\n",
    "\n",
    "Para resolver esse problema precisamos encontrar uma forma de obrigar o percurso do caixeiro a começar sempre pelas cidades ímpares e depois seguir para as pares. Há muitas formas de se fazer esse processo,  mas nesse caso, isso será feito por meio da função `sequencia_correta()` adicionada ao arquivo de script `funcoes_5_1.py` para melhor organização das atividades."
   ]
  },
  {
   "cell_type": "markdown",
   "metadata": {},
   "source": [
    "#### Função de seleção\n",
    "\n",
    "```python\n",
    "def sequencia_correta(candidato):\n",
    "    impar = []\n",
    "    par = []\n",
    "    for cidade in candidato:\n",
    "        indice = int(cidade.split()[1])  # extrai o número da cidade\n",
    "        if indice % 2 != 0:\n",
    "            impar.append(cidade)\n",
    "        else:\n",
    "            par.append(cidade)\n",
    "    return impar, par  # junta ímpares primeiro, depois pares\n"
   ]
  },
  {
   "cell_type": "markdown",
   "metadata": {},
   "source": [
    "Essa função retorna uma tupla contendo a soma de duas outras listas que foram organizadas em cidades ímpares e pares. Assim, as cidades ímpares sempre seriam as primeiras em relação às pares."
   ]
  },
  {
   "cell_type": "markdown",
   "metadata": {},
   "source": [
    "#### Função de criação de candidato\n",
    "<div style=\"text-align: justify\">\n",
    "\n",
    "```python\n",
    "def cria_candidato_caixeiro(cidades):\n",
    "    nomes_cidades = list(cidades.keys())\n",
    "    nomes_cidades_impar = [nomes_cidades[i] for i in range(1, len(nomes_cidades), 2)]\n",
    "    nomes_cidades_par = [nomes_cidades[i] for i in range(0, len(nomes_cidades), 2)]\n",
    "\n",
    "    caminho_impar = random.sample(nomes_cidades_impar, k=len(nomes_cidades_impar))\n",
    "    caminho_par = random.sample(nomes_cidades_par, k=len(nomes_cidades_par))\n",
    "\n",
    "    caminho = caminho_impar + caminho_par\n",
    "    return caminho\n",
    "```\n",
    "\n",
    "Nessa função tínhamos como objetivo obrigar que os candidatos criados fossem válidos. Para isso, criados as variáveis `nomes_cidades_impar` e `nomes_cidades_par` para armazenar as cidades de acordo com a condição. Para isso filtramos a lista de nomes de cidades iterando de duas a duas, guardando as ímpares e as pares em caminhos formados aleatoriamente e depois guardando a soma desses caminhos como um caminho total, na variável `caminho`.\n"
   ]
  },
  {
   "cell_type": "markdown",
   "metadata": {},
   "source": [
    "#### Função de Cruzamento\n",
    "<div style=\"text-align: justify\">\n",
    "\n",
    "```python\n",
    "\n",
    "def cruzamento_ponto_simples(pai, mae, chance_de_cruzamento):\n",
    "    \"\"\"Realiza cruzamento de ponto simples\n",
    "\n",
    "    Args:\n",
    "    pai: lista representando um individuo\n",
    "    mae: lista representando um individuo\n",
    "    chance_de_cruzamento: float entre 0 e 1 representando a chance de cruzamento\n",
    "    \"\"\"\n",
    "    if random.random() < chance_de_cruzamento:\n",
    "        filho1 = sequencia_correta(mae)[0] + sequencia_correta(pai)[1]\n",
    "        filho2 = sequencia_correta(pai)[0] + sequencia_correta(mae)[1]\n",
    "        return filho1, filho2\n",
    "    else: \n",
    "        return pai, mae\n",
    "```\n",
    "Nessa função de cruzamento, modificamos a lógica para cruzar apenas as cidades ímpares da mãe com as pares do pai e cruzar as cidades ímpares do pai com as pares da mãe, gerando filhos com variabilidade sem necessariamente modificar a ordem de que os ímpares precisam vir antes dos pares."
   ]
  },
  {
   "cell_type": "markdown",
   "metadata": {},
   "source": [
    "#### Função de Mutação\n",
    " \n",
    "```python\n",
    "def mutacao_troca(populacao, chance_de_mutacao):\n",
    "    for individuo in populacao:\n",
    "        if random.random() < chance_de_mutacao:\n",
    "            individuo_impar, individuo_par = sequencia_correta(individuo)\n",
    "            random.shuffle(individuo_par)\n",
    "            random.shuffle(individuo_impar)\n",
    "            individuo = individuo_impar + individuo_par\n",
    "```\n",
    "A função de mutação utiliza da separação do individuo em ímpar e par, aplicando a função `sequencia_correta`. Após a separação, aplica-se o método shuffle para embaralhar as partes."
   ]
  },
  {
   "cell_type": "markdown",
   "metadata": {},
   "source": [
    "\n",
    "```python\n",
    "def corrigir_candidato(candidato):\n",
    "    candidato_novo = candidato.remove[\"Cidade 00\"]\n",
    "    candidato = ['Cidade 00'] + candidato_novo  \n",
    "\n",
    "```"
   ]
  },
  {
   "cell_type": "markdown",
   "metadata": {},
   "source": [
    "### Implementação"
   ]
  },
  {
   "cell_type": "code",
   "execution_count": 1,
   "metadata": {},
   "outputs": [],
   "source": [
    "from pprint import pprint\n",
    "from functools import partial\n",
    "from itertools import permutations\n",
    "\n",
    "from funcoes_caixeiro_impar import cria_cidades\n",
    "from funcoes_caixeiro_impar import populacao_caixeiro as cria_populacao\n",
    "from funcoes_caixeiro_impar import funcao_objetivo_pop_caixeiro\n",
    "from funcoes_caixeiro_impar import funcao_objetivo_caixeiro\n",
    "from funcoes_caixeiro_impar import selecao_torneio_min as funcao_selecao\n",
    "from funcoes_caixeiro_impar import cruzamento_ponto_simples as funcao_cruzamento\n",
    "from funcoes_caixeiro_impar import mutacao_troca as funcao_mutacao\n",
    "from funcoes_caixeiro_impar import plota_trajeto"
   ]
  },
  {
   "cell_type": "code",
   "execution_count": 2,
   "metadata": {},
   "outputs": [],
   "source": [
    "TAMANHO_POPULACAO = 100\n",
    "NUM_GERACOES = 500\n",
    "CHANCE_DE_CRUZAMENTO = 0.5\n",
    "CHANCE_DE_MUTACAO = 0.05\n",
    "TAMANHO_TORNEIO = 3"
   ]
  },
  {
   "cell_type": "code",
   "execution_count": 3,
   "metadata": {},
   "outputs": [],
   "source": [
    "NUM_CIDADES = 10\n",
    "CIDADES = cria_cidades(NUM_CIDADES)\n",
    "populacao = cria_populacao(TAMANHO_POPULACAO, CIDADES)"
   ]
  },
  {
   "cell_type": "code",
   "execution_count": 4,
   "metadata": {},
   "outputs": [],
   "source": [
    "funcao_objetivo = partial(funcao_objetivo_pop_caixeiro, cidades=CIDADES)"
   ]
  },
  {
   "cell_type": "code",
   "execution_count": 5,
   "metadata": {},
   "outputs": [],
   "source": [
    "hall_da_fama = []\n",
    "\n",
    "for n in range(NUM_GERACOES):\n",
    "    \n",
    "    # Seleção\n",
    "    fitness = funcao_objetivo(populacao)        \n",
    "    selecionados = funcao_selecao(populacao, fitness, TAMANHO_TORNEIO)\n",
    "    \n",
    "    # Cruzamento\n",
    "    proxima_geracao = []\n",
    "    for pai, mae in zip(selecionados[::2], selecionados[1::2]):\n",
    "        individuo1, individuo2 = funcao_cruzamento(pai, mae, CHANCE_DE_CRUZAMENTO)\n",
    "        proxima_geracao.append(individuo1)\n",
    "        proxima_geracao.append(individuo2)\n",
    "    \n",
    "    # Mutação\n",
    "    funcao_mutacao(proxima_geracao, CHANCE_DE_MUTACAO)\n",
    "    \n",
    "    # Atualização do hall da fama\n",
    "    fitness = funcao_objetivo(proxima_geracao)\n",
    "        \n",
    "    menor_fitness = min(fitness)\n",
    "    indice = fitness.index(menor_fitness)\n",
    "    hall_da_fama.append(proxima_geracao[indice])    \n",
    "    \n",
    "    # Encerramento\n",
    "    populacao = proxima_geracao"
   ]
  },
  {
   "cell_type": "code",
   "execution_count": 6,
   "metadata": {},
   "outputs": [
    {
     "name": "stdout",
     "output_type": "stream",
     "text": [
      "\n",
      "Melhor individuo obtido por algoritmos genéticos:\n",
      "['Cidade 00', 'Cidade 03', 'Cidade 07', 'Cidade 01', 'Cidade 05', 'Cidade 09', 'Cidade 02', 'Cidade 04', 'Cidade 06', 'Cidade 08'] com distância: 1230.661070280455\n",
      "\n"
     ]
    },
    {
     "data": {
      "image/png": "[encoded data removed]",
      "text/plain": [
       "<Figure size 640x480 with 1 Axes>"
      ]
     },
     "metadata": {},
     "output_type": "display_data"
    }
   ],
   "source": [
    "fitness = funcao_objetivo(hall_da_fama)\n",
    "menor_fitness = min(fitness)\n",
    "indice = fitness.index(menor_fitness)\n",
    "melhor_individuo_observado = hall_da_fama[indice]\n",
    "distancia = funcao_objetivo_caixeiro(melhor_individuo_observado, CIDADES)\n",
    "\n",
    "print()\n",
    "print(\"Melhor individuo obtido por algoritmos genéticos:\")\n",
    "print(melhor_individuo_observado, \"com distância:\", distancia)\n",
    "print()\n",
    "\n",
    "plota_trajeto(CIDADES, melhor_individuo_observado)"
   ]
  },
  {
   "cell_type": "code",
   "execution_count": 7,
   "metadata": {},
   "outputs": [],
   "source": [
    "if NUM_CIDADES < 8:\n",
    "    fitness_otimo = float(\"inf\")\n",
    "\n",
    "    # testando todas as permutações possíveis\n",
    "    for caminho in permutations(list(CIDADES.keys())):\n",
    "        distancia = funcao_objetivo_caixeiro(caminho, CIDADES)\n",
    "        if distancia < fitness_otimo:\n",
    "            fitness_otimo = distancia\n",
    "            resposta_otima = caminho\n",
    "            melhor_distancia = distancia\n",
    "\n",
    "    print()\n",
    "    print(\"Melhor individuo obtido por busca exaustiva:\")\n",
    "    print(resposta_otima, \"com distância:\", melhor_distancia)\n",
    "    print()\n",
    "\n",
    "    plota_trajeto(CIDADES, resposta_otima)"
   ]
  },
  {
   "cell_type": "markdown",
   "metadata": {},
   "source": [
    "### Conclusão\n",
    "<div style=\"text-align: justify\">\n",
    "\n",
    "&nbsp;&nbsp;&nbsp;&nbsp; O presente projeto apresentou uma modificação ao problema clássico do caixeiro viajante adicionando uma exigência: a preferencia por cidades ímpares, possibilitando diversas modificações na abordagem clássica. Nele foi possível explorar diferentes formas de se lidar com problemas de indivíduos inválidos.\n",
    "\n"
   ]
  },
  {
   "cell_type": "markdown",
   "metadata": {},
   "source": [
    "### Referências\n",
    "\n",
    "[1].CASSAR, Daniel. [Material de sala de aula]. Redes Neurais e Algoritmos Genéticos, 2025, Ilum - Escola de Ciência."
   ]
  }
 ],
 "metadata": {
  "kernelspec": {
   "display_name": "Python 3 (ipykernel)",
   "language": "python",
   "name": "python3"
  },
  "language_info": {
   "codemirror_mode": {
    "name": "ipython",
    "version": 3
   },
   "file_extension": ".py",
   "mimetype": "text/x-python",
   "name": "python",
   "nbconvert_exporter": "python",
   "pygments_lexer": "ipython3",
   "version": "3.11.6"
  }
 },
 "nbformat": 4,
 "nbformat_minor": 4
}
