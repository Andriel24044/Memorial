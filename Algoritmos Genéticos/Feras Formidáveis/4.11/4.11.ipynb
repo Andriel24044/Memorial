{
 "cells": [
  {
   "cell_type": "markdown",
   "metadata": {},
   "source": [
    "# 4.11 Eles estão se multiplicando!\n",
    "\n",
    "## Objetivo:\n",
    "Encontre o caminho de menor distância no problema do caixeiro viajante\n",
    "considerando que existe mais do que um caixeiro viajante.\n"
   ]
  },
  {
   "cell_type": "markdown",
   "metadata": {},
   "source": [
    "## Introdução\n",
    "\n",
    "O problema consiste em descobrir a rota de menor distância entre $n$ pontos no plano cartesiano (ou seja, $n$ pontos com coordenadas $(x,y)$). A rota pode se iniciar em qualquer um dos pontos disponíveis e deve terminar no ponto inicial, visitando todos os demais pontos apenas uma vez. Considere que a rota entre um ponto e outro é a linha reta que liga os dois pontos. Cada trajeto descoberto é considerado o caminho do caixeiro.\n"
   ]
  },
  {
   "cell_type": "markdown",
   "metadata": {},
   "source": [
    "## Descrição do problema:\n",
    "<div style=\"text-align: justify\">\n",
    "\n",
    "Considere um número n ≥ 10 de coordenadas (x, y) de cidades (cada cidade ocupa uma posição (x, y) diferente). Você pode gerar as coordenadas de forma aleatória ou simplesmente usar as coordenadas que desejar. Os caixeiros só andam em linha reta e apenas entre duas cidades. Todos os caixeiros começam em cidades diferentes e jamais visitam cidades já visitadas por outros caixeiros.\n"
   ]
  },
  {
   "cell_type": "code",
   "execution_count": 1,
   "metadata": {},
   "outputs": [],
   "source": [
    "from funcoes_caixeiros import plota_trajeto\n",
    "from funcoes_caixeiros import cria_cidades\n",
    "from funcoes_caixeiros import populacao_caixeiro as cria_populacao\n",
    "from funcoes_caixeiros import funcao_objetivo_pop_caixeiro as funcao_objetivo\n",
    "from funcoes_caixeiros import funcao_objetivo_caixeiro\n",
    "from funcoes_caixeiros import selecao_torneio_min as funcao_selecao\n",
    "from funcoes_caixeiros import cruzamento_multiplos_caixeiros as funcao_cruzamento\n",
    "from funcoes_caixeiros import mutacao_caixeiros as funcao_mutacao1\n",
    "from funcoes_caixeiros import mutacao_troca as funcao_mutacao2\n",
    "\n"
   ]
  },
  {
   "cell_type": "markdown",
   "metadata": {},
   "source": [
    "## Resolução\n",
    "\n",
    "Modificações feitas em [1]"
   ]
  },
  {
   "cell_type": "markdown",
   "metadata": {},
   "source": [
    "<div style=\"text-align: justify\">\n",
    "\n",
    "**I) Modificação da forma de criação dos caixeiros:** Precisamos modificar essa função para atender a necessidade de criar dois caixeiros. Isso é feito de forma que o segundo caminho sorteado seja complementar ao primeiro, que pode ser sorteado aleatoriamente em um intervalo de 2 a 8 cidades. **Obs.:** Foi necessário converter a lista do caminho 2 em list porque o `random.sample()` não aceita sets."
   ]
  },
  {
   "cell_type": "markdown",
   "metadata": {},
   "source": [
    "```python\n",
    "def cria_candidato_caixeiro(cidades): \n",
    "\n",
    "    \"\"\"Sorteia um caminho possível no problema do caixeiro viajante\n",
    "\n",
    "    Args:\n",
    "      cidades:\n",
    "        Dicionário contendo o nome das cidades como chaves e a coordenada no\n",
    "        plano cartesiano das cidades como valores.\n",
    "\n",
    "    \"\"\"\n",
    "\n",
    "    nomes_cidades = list(cidades.keys())\n",
    "    num = random.randint(2,8)\n",
    "    caminho_1 = random.sample(nomes_cidades, k=num)\n",
    "    sub = list(set(nomes_cidades) - set(caminho_1)) \n",
    "    \n",
    "    caminho_2 = random.sample(sub, k=len(sub)) \n",
    "    return caminho_1, caminho_2"
   ]
  },
  {
   "cell_type": "markdown",
   "metadata": {},
   "source": [
    "**II) Modificação da Função Objetivo da população:** Precisamos modificar essa função para retornar o valor calculado para as distâncias percorridas finais dos dois caixeiros.\n",
    "\n",
    "* `fitness`: Recebe a soma das duas distâncias para verificar o trajeto total percorrido."
   ]
  },
  {
   "cell_type": "markdown",
   "metadata": {},
   "source": [
    "```python\n",
    "\n",
    "def funcao_objetivo_pop_caixeiro(populacao, cidades): \n",
    "  \n",
    "    \"\"\"Funcao objetivo de uma populacao no problema do caixeiro viajante\n",
    "\n",
    "    Args:\n",
    "      populacao: lista contendo os individuos do problema\n",
    "      cidades:\n",
    "        Dicionário contendo o nome das cidades como chaves e a coordenada no\n",
    "        plano cartesiano das cidades como valores.\n",
    "\n",
    "    \"\"\"\n",
    "    fitness = []\n",
    "\n",
    "    for individuo in populacao:\n",
    "        caixeiro_um = funcao_objetivo_caixeiro(individuo[0], cidades)\n",
    "        caixeiro_dois = funcao_objetivo_caixeiro(individuo[1], cidades)\n",
    "        fitness.append(caixeiro_um + caixeiro_dois)\n",
    "\n",
    "    return fitness"
   ]
  },
  {
   "cell_type": "markdown",
   "metadata": {},
   "source": [
    "<div style=\"text-align: justify\">\n",
    "\n",
    "**III) Modificação da função de cruzamento**: Para o cruzamento dos caixeiros, decidiu-se criar os filhos com um caixeiro do pai e outro da mãe, ambos sorteados aleatoriamente. Porém, o grande problema são os indivíduos repetidos e faltantes, sendo necessária a criação da função `corrigir_duplicatas_e_faltantes`, na qual analisa quais cidades estão repetidas nos dois caixeiros e retorna uma lista sem repetições e completa com as cidades que faltam para finalizar a rota.\n",
    "\n",
    "```python\n",
    "def cruzamento_multiplos_caixeiros(pai, mae, chance_de_cruzamento, cidades):\n",
    "    if random.random() < chance_de_cruzamento:\n",
    "        caixeiro_pai_1 = random.choice(pai)\n",
    "        caixeiro_mae_1 = random.choice(mae)\n",
    "\n",
    "        filho1 = corrigir_duplicatas_e_faltantes(caixeiro_pai_1, caixeiro_mae_1, cidades)\n",
    "\n",
    "        caixeiro_pai_2 = random.choice(pai)\n",
    "        caixeiro_mae_2 = random.choice(mae)\n",
    "        filho2 = corrigir_duplicatas_e_faltantes(caixeiro_mae_2, caixeiro_pai_2, cidades)\n",
    "\n",
    "        return filho1, filho2\n",
    "    else:\n",
    "        return pai[:], mae[:]\n",
    "\n",
    "def corrigir_duplicatas_e_faltantes(c1, c2, cidades_referencia):\n",
    "    conjunto_c1 = set(c1)\n",
    "    caixeiro2_corrigido = [cidade for cidade in c2 if cidade not in conjunto_c1]\n",
    "\n",
    "    usadas = set(c1 + caixeiro2_corrigido)\n",
    "    \n",
    "    faltando = [cidade for cidade in cidades_referencia if cidade not in usadas]\n",
    "    caixeiro2_corrigido += faltando\n",
    "\n",
    "    return [c1[:], caixeiro2_corrigido]\n",
    "\n",
    "```"
   ]
  },
  {
   "cell_type": "markdown",
   "metadata": {},
   "source": [
    "**IV) Modificações para as funções de mutação:** Para esse caso decidimos elaborar uma mutação para trocar elementos entre caixeiros, com `mutacao_caixeiros`. Nessa função substituímos um dos elementos de `caixeiro1` por um do `caixeiro2` escolhido aleatóriamente e vice-versa. Também utilizamos a mutação de troca conforme lecionado em sala de aula para realizar a troca de um dos elementos do caixeiro por outro. Assim, melhoramos o desempenho do modelo.\n",
    "\n",
    "```python\n",
    "def mutacao_caixeiros(populacao, chance_de_mutacao):\n",
    "    for caixeiro1, caixeiro2 in populacao:\n",
    "        if random.random() < chance_de_mutacao:\n",
    "            sorteio_caixeiro1 = random.randint(0, len(caixeiro1)-1)\n",
    "            sorteio_caixeiro2 = random.randint(0, len(caixeiro2)-1)\n",
    "\n",
    "            caixeiro1[sorteio_caixeiro1], caixeiro2[sorteio_caixeiro2] = (\n",
    "                caixeiro2[sorteio_caixeiro2], caixeiro1[sorteio_caixeiro1]) \n",
    "\n",
    "\n",
    "def mutacao_troca(populacao, chance_de_mutacao):\n",
    "    \"\"\"Aplica mutacao de troca em um indivíduo\n",
    "\n",
    "    Args:\n",
    "      populacao: lista contendo os indivíduos do problema\n",
    "      chance_de_mutacao: float entre 0 e 1 representando a chance de mutação\n",
    "\n",
    "    \"\"\"\n",
    "    for individuos in populacao:\n",
    "        individuo = random.choice(individuos)\n",
    "        if random.random() < chance_de_mutacao:\n",
    "            gene1 = random.randint(0, len(individuo) - 1)\n",
    "            gene2 = random.randint(0, len(individuo) - 1)\n",
    "\n",
    "            while gene1 == gene2:\n",
    "                gene1 = random.randint(0, len(individuo) - 1)\n",
    "                gene2 = random.randint(0, len(individuo) - 1)\n",
    "\n",
    "            individuo[gene1], individuo[gene2] = (\n",
    "                individuo[gene2],\n",
    "                individuo[gene1],\n",
    "            )\n",
    "```"
   ]
  },
  {
   "cell_type": "markdown",
   "metadata": {},
   "source": [
    "<div style=\"text-align: justify\">\n",
    "\n",
    "**V) Modificação da forma como os trajetos são plotados:** nessa etapa foi adicionada uma seção de código referente ao caminho plotado para o caixeiro 2, recuperando essa informação por meio do índice da variável trajetos que tem a estrutura `trajetos[\"caixeiro1\", \"caixeiro2\"]`."
   ]
  },
  {
   "cell_type": "markdown",
   "metadata": {},
   "source": [
    "```python\n",
    "def plota_trajeto(cidades, trajetos): #MODIFICAÇÕES PARA PLOTAR 2 TRAJETOS\n",
    "    \"\"\"Plota o trajeto do caixeiro\n",
    "\n",
    "    Nota: código de base criado pelo Google Gemini e modificado aqui.\n",
    "\n",
    "    Args:\n",
    "      cidades:\n",
    "        Dicionário contendo o nome das cidades como chaves e a coordenada no\n",
    "        plano cartesiano das cidades como valores.\n",
    "      trajeto: lista contendo a ordem das cidades que foram viszitadas\n",
    "\n",
    "    \"\"\"\n",
    "    x = [cidades[cidade][0] for cidade in cidades]\n",
    "    y = [cidades[cidade][1] for cidade in cidades]\n",
    "\n",
    "    # plotando as cidades\n",
    "    plt.scatter(x, y, color=\"blue\")\n",
    "\n",
    "    # nomes das cidades\n",
    "    for cidade, (x, y) in cidades.items():\n",
    "        plt.annotate(\n",
    "            cidade,\n",
    "            (x, y),\n",
    "            textcoords=\"offset points\",\n",
    "            xytext=(0, 10),\n",
    "            ha=\"center\",\n",
    "        )\n",
    "\n",
    "    # plotando os trajetos\n",
    "    colors = ['red', 'blue']\n",
    "    for num, trajeto in enumerate(trajetos):\n",
    "        for i in range(len(trajeto) - 1):\n",
    "            cidade1 = trajeto[i]\n",
    "            cidade2 = trajeto[i + 1]\n",
    "            plt.plot(\n",
    "                [cidades[cidade1][0], cidades[cidade2][0]],\n",
    "                [cidades[cidade1][1], cidades[cidade2][1]],\n",
    "                color=colors[num],\n",
    "            )\n",
    "\n",
    "    # trajeto de volta à cidade inicial\n",
    "    cidade_final_um = trajetos[0][-1]\n",
    "    cidade_inicial_um = trajetos[0][0]\n",
    "    plt.plot(\n",
    "        [cidades[cidade_final_um][0], cidades[cidade_inicial_um][0]],\n",
    "        [cidades[cidade_final_um][1], cidades[cidade_inicial_um][1]],\n",
    "        color=\"red\",\n",
    "    )\n",
    "\n",
    "    cidade_final_dois = trajetos[1][-1]\n",
    "    cidade_inicial_dois = trajetos[1][0]\n",
    "    plt.plot(\n",
    "        [cidades[cidade_final_dois][0], cidades[cidade_inicial_dois][0]],\n",
    "        [cidades[cidade_final_dois][1], cidades[cidade_inicial_dois][1]],\n",
    "        color=\"blue\",\n",
    "    )\n",
    "    \n",
    "\n",
    "    plt.xlabel(\"Coordenada x\")\n",
    "    plt.ylabel(\"Coordenada y\")\n",
    "    plt.show()\n",
    "\n"
   ]
  },
  {
   "cell_type": "markdown",
   "metadata": {},
   "source": [
    "<div style=\"text-align: justify\">\n",
    "\n",
    "**VI) Implementação do código de algoritmos genéticos**: Nessa parte, implementamos o código normalmente. Diminuímos a chance de mutação por conta de estarmos usando duas funções de mutação, para evitar que o modelo não convirja por excesso de mutações."
   ]
  },
  {
   "cell_type": "code",
   "execution_count": 2,
   "metadata": {},
   "outputs": [],
   "source": [
    "NUM_CIDADES = 10\n",
    "CIDADES = cria_cidades(NUM_CIDADES)\n",
    "\n",
    "TAMANHO_POPULACAO = 50\n",
    "NUM_GERACOES = 100\n",
    "CHANCE_DE_CRUZAMENTO = 0.5\n",
    "CHANCE_DE_MUTACAO = 0.025\n",
    "TAMANHO_TORNEIO = 3"
   ]
  },
  {
   "cell_type": "code",
   "execution_count": 3,
   "metadata": {},
   "outputs": [],
   "source": [
    "populacao = cria_populacao(TAMANHO_POPULACAO, CIDADES)"
   ]
  },
  {
   "cell_type": "code",
   "execution_count": 4,
   "metadata": {},
   "outputs": [],
   "source": [
    "hall_da_fama = []\n",
    "\n",
    "for n in range(NUM_GERACOES):\n",
    "    \n",
    "    # Seleção\n",
    "    fitness = funcao_objetivo(populacao, CIDADES)\n",
    "    selecionados = funcao_selecao(populacao, fitness, TAMANHO_TORNEIO)\n",
    "\n",
    "    # Cruzamento\n",
    "    proxima_geracao = []\n",
    "    for pai, mae in zip(selecionados[::2], selecionados[1::2]):\n",
    "        individuo1, individuo2 = funcao_cruzamento(pai, mae, CHANCE_DE_CRUZAMENTO, CIDADES.keys())\n",
    "        proxima_geracao.append(individuo1)\n",
    "        proxima_geracao.append(individuo2)\n",
    "\n",
    "    # Mutação\n",
    "    funcao_mutacao1(proxima_geracao, CHANCE_DE_MUTACAO)\n",
    "\n",
    "    funcao_mutacao2(proxima_geracao, CHANCE_DE_MUTACAO)\n",
    "\n",
    "    # Atualização do hall da fama\n",
    "    fitness = funcao_objetivo(proxima_geracao, CIDADES)\n",
    "        \n",
    "    menor_fitness = min(fitness)\n",
    "    indice = fitness.index(menor_fitness)\n",
    "    hall_da_fama.append(proxima_geracao[indice])    \n",
    "    \n",
    "    # Encerramento\n",
    "    populacao = proxima_geracao"
   ]
  },
  {
   "cell_type": "code",
   "execution_count": 5,
   "metadata": {},
   "outputs": [
    {
     "name": "stdout",
     "output_type": "stream",
     "text": [
      "\n",
      "Melhor individuo obtido por algoritmos genéticos:\n",
      "[['Cidade 00', 'Cidade 03', 'Cidade 08'], ['Cidade 01', 'Cidade 02', 'Cidade 09', 'Cidade 05', 'Cidade 06', 'Cidade 07', 'Cidade 04']] com distância: 722.5818794647505\n",
      "\n"
     ]
    },
    {
     "data": {
      "image/png": "[encoded data removed]",
      "text/plain": [
       "<Figure size 640x480 with 1 Axes>"
      ]
     },
     "metadata": {},
     "output_type": "display_data"
    }
   ],
   "source": [
    "fitness = funcao_objetivo(hall_da_fama, CIDADES)\n",
    "menor_fitness = min(fitness)\n",
    "indice = fitness.index(menor_fitness)\n",
    "melhor_individuo_observado = hall_da_fama[indice]\n",
    "distancia_um = funcao_objetivo_caixeiro(melhor_individuo_observado[0], CIDADES)\n",
    "distancia_dois = funcao_objetivo_caixeiro(melhor_individuo_observado[1], CIDADES)\n",
    "\n",
    "distancia = distancia_um + distancia_dois\n",
    "\n",
    "print()\n",
    "print(\"Melhor individuo obtido por algoritmos genéticos:\")\n",
    "print(melhor_individuo_observado, \"com distância:\", distancia)\n",
    "print()\n",
    "\n",
    "plota_trajeto(CIDADES, melhor_individuo_observado)"
   ]
  },
  {
   "cell_type": "markdown",
   "metadata": {},
   "source": [
    "## Conclusão\n",
    "<div style=\"text-align: justify\">\n",
    "\n",
    "&nbsp;&nbsp;&nbsp;&nbsp;Nesse problema foi necessário implementar várias modificações para adequar o código para um segundo caixeiro. Apesar da série de modificações que fizemos, as principais estão nas funções de mutação e cruzamento. Para a mutação, pensamosque seria interessante substituir elementos entre os caixeiros (tirando uma cidade do caixeiro 1 e colocando no caixeiro 2 e vice-versa) e realizar a mutação de uma cidade dentro do caixeiro, com a função de mutação de troca. A partir disso, aumentamos a variabilidade genética, melhorando o desempenho. Quanto ao cruzamento, escolhemos cruzar os elementos combinando os caixeiros para gerar filhos e realizando a devida correção para evitar indivíduos inválidos."
   ]
  },
  {
   "cell_type": "markdown",
   "metadata": {},
   "source": [
    "### Referências\n",
    "\n",
    "[1].CASSAR, Daniel. [Material de sala de aula]. Redes Neurais e Algoritmos Genéticos, 2025, Ilum - Escola de Ciência."
   ]
  }
 ],
 "metadata": {
  "kernelspec": {
   "display_name": "Python 3 (ipykernel)",
   "language": "python",
   "name": "python3"
  },
  "language_info": {
   "codemirror_mode": {
    "name": "ipython",
    "version": 3
   },
   "file_extension": ".py",
   "mimetype": "text/x-python",
   "name": "python",
   "nbconvert_exporter": "python",
   "pygments_lexer": "ipython3",
   "version": "3.11.6"
  },
  "org": null
 },
 "nbformat": 4,
 "nbformat_minor": 4
}
